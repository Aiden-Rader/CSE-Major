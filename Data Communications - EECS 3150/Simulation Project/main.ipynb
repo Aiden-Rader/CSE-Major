{
 "cells": [
  {
   "cell_type": "markdown",
   "id": "cef58d2e-c122-4166-8c97-b0556905cf6d",
   "metadata": {},
   "source": [
    "<h1 style=\"text-align: center;\"> Hamming Code Simulation Project (Jupyter Notebook) </h1>\n",
    "\n",
    "- Author: Aiden Rader\n",
    "- Date: [07/23/2025]  \n",
    "- Course: EECS 3150 - Summer 2025 - Data Communications  \n",
    "- Professor: Dr. Junghwan Kim  \n",
    "\n",
    "\n",
    "---"
   ]
  },
  {
   "cell_type": "markdown",
   "id": "6d7ee72e",
   "metadata": {},
   "source": [
    "### Project Description:\n",
    "Design a Binary Hamming Code of (n, k) = (15, 11) using generator polynomial g(x) = 1 + x + x<sup>4</sup>.\n",
    "\n",
    "#### Steps:\n",
    "1. Form a Parity check matrix H (Systematic form)\n",
    "2. Form a corresponding <b>Generator matrix G</b> (Systematic form)\n",
    "3. Form a <b>Syndrome Table</b> with corresponding for <u>all Error Patterns for Single error and\n",
    "Double errors.</u>\n",
    "4. Encode the following message(s) vectors and give respective Encoded Codeword V:\n",
    "   1. U<sub>1</sub> = (1 1 1 1 0 0 0 0 0 1 1)\n",
    "   2. U<sub>2</sub> = (0 1 0 0 1 0 1 0 1 0 0)\n",
    "   3. U<sub>3</sub> = (1 1 0 1 1 0 0 0 1 1 0)\n",
    "   4. U<sub>4</sub> = (1 1 1 1 1 0 0 1 1 1 0)\n",
    "   5. U<sub>5</sub> = (1 0 1 0 1 0 1 0 1 1 1)\n",
    "5. Decode the following received vectors (find out respective Message vector U):\n",
    "   1. R<sub>1</sub> = (1 1 1 1 0 0 0 1 0 1 0 1 1 0 1)\n",
    "   2. R<sub>2</sub> = (1 0 1 0 1 0 0 1 0 1 0 0 1 1 0)\n",
    "   3. R<sub>3</sub> = (0 0 0 1 1 0 1 0 0 1 1 1 0 1 1)\n",
    "   4. R<sub>4</sub> = (1 0 1 0 1 0 1 1 0 1 0 1 0 1 1)\n",
    "   5. R<sub>5</sub> = (1 1 1 1 0 0 0 0 0 0 1 1 0 1 0)\n",
    "\n",
    "#### Notes:\n",
    "- In case, you cannot decode any of the given Rxed codewords based on Syndrome\n",
    "Table, give sufficient reasoning for each case."
   ]
  },
  {
   "cell_type": "markdown",
   "id": "d257b7f8",
   "metadata": {},
   "source": [
    "---"
   ]
  },
  {
   "cell_type": "markdown",
   "id": "1e33b279",
   "metadata": {},
   "source": [
    "Import necessary libraries"
   ]
  },
  {
   "cell_type": "code",
   "execution_count": 160,
   "id": "eaecbd79",
   "metadata": {},
   "outputs": [
    {
     "name": "stdout",
     "output_type": "stream",
     "text": [
      "Libraries Imported!\n"
     ]
    }
   ],
   "source": [
    "import numpy as np  # Used for matrix operations\n",
    "from pprint import pprint # Used for pretty-printing the syndrome table (if needed of course)\n",
    "\n",
    "# Confirmation message\n",
    "print(\"Libraries Imported!\")"
   ]
  },
  {
   "cell_type": "markdown",
   "id": "d42eac4c",
   "metadata": {},
   "source": [
    "---"
   ]
  },
  {
   "cell_type": "markdown",
   "id": "b855091f",
   "metadata": {},
   "source": [
    "Define generator polynomial in binary \n",
    "\n",
    "<i> (this is for debugging reasons and will not be applied when user enters the polynomial) </i>"
   ]
  },
  {
   "cell_type": "code",
   "execution_count": 161,
   "id": "2b68187e",
   "metadata": {},
   "outputs": [
    {
     "name": "stdout",
     "output_type": "stream",
     "text": [
      "n =  15\n",
      "k =  11\n",
      "r =  4\n",
      "Generator Polynomial:  [1, 1, 0, 0, 1] \n",
      "Length of Generator Polynomial:  5\n"
     ]
    }
   ],
   "source": [
    "n, k = 15, 11  # n is the codeword length, k is the message length\n",
    "r = n - k\n",
    "\n",
    "test_gen_poly = [1, 1, 0, 0, 1]  # Generator polynomial derived from (1 * x^0 + 1 * x^1 + 0 * x^2 + 0 * x^3 + 1 * x^4)\n",
    "len_test_gen_poly = len(test_gen_poly)\n",
    "\n",
    "print(\"n = \", n)\n",
    "print(\"k = \", k)\n",
    "print(\"r = \", r)\n",
    "print(\"Generator Polynomial: \", test_gen_poly, \"\\nLength of Generator Polynomial: \", len_test_gen_poly)"
   ]
  },
  {
   "cell_type": "markdown",
   "id": "5bba584b",
   "metadata": {},
   "source": [
    "---"
   ]
  },
  {
   "cell_type": "markdown",
   "id": "e2da4c6c",
   "metadata": {},
   "source": [
    "Create a Mod 2 Division function that can be used to perform the division for the generator matrix"
   ]
  },
  {
   "cell_type": "code",
   "execution_count": 162,
   "id": "f87165a5",
   "metadata": {},
   "outputs": [
    {
     "name": "stdout",
     "output_type": "stream",
     "text": [
      "Modulo 2 Division Function Defined...\n"
     ]
    }
   ],
   "source": [
    "# Helper Function to perform the modulo 2 division, used to return the remainder of the division\n",
    "def mod2_divide(dividend, divisor):\n",
    "\tdividend = dividend.copy()\n",
    "\n",
    "\tfor i in range(len(dividend) - len(divisor) + 1):\n",
    "\t\tif dividend[i] == 1:\n",
    "\t\t\tdividend[i:i+len(divisor)] ^= divisor\n",
    "\n",
    "\t# Return the remainder of the division\n",
    "\treturn dividend[-(len(divisor)-1):]\n",
    "\n",
    "print(\"Modulo 2 Division Function Defined...\")\n"
   ]
  },
  {
   "cell_type": "markdown",
   "id": "7cc2f979",
   "metadata": {},
   "source": [
    "---"
   ]
  },
  {
   "cell_type": "markdown",
   "id": "d0b376f7",
   "metadata": {},
   "source": [
    "Now create a function to build the generator matrix using systematic form [I | P]"
   ]
  },
  {
   "cell_type": "code",
   "execution_count": 163,
   "id": "f5bc1911",
   "metadata": {},
   "outputs": [
    {
     "name": "stdout",
     "output_type": "stream",
     "text": [
      "Generator Matrix Function Defined...\n"
     ]
    }
   ],
   "source": [
    "def build_generator_matrix(gen_poly):\n",
    "\tr = n - k\n",
    "\tG = np.zeros((k, n), dtype=int)\n",
    "\n",
    "\t# Fill identity part\n",
    "\tG[:, :k] = np.eye(k, dtype=int)\n",
    "\n",
    "\t# Fill parity part\n",
    "\tfor i in range(k):\n",
    "\t\tdividend = np.zeros(k + r, dtype=int)\n",
    "\t\tdividend[i + r] = 1  # x^(r+i)\n",
    "\n",
    "\t\t# Perform mod-2 division (using mod2 helper function) by g(x)\n",
    "\t\tremainder = mod2_divide(dividend, gen_poly)\n",
    "\n",
    "\t\t# Put remainder into parity part of G\n",
    "\t\tG[i, k:] = remainder\n",
    "\treturn G\n",
    "\n",
    "print(\"Generator Matrix Function Defined...\")"
   ]
  },
  {
   "cell_type": "markdown",
   "id": "b7e1a4dc",
   "metadata": {},
   "source": [
    "Print out the result!"
   ]
  },
  {
   "cell_type": "code",
   "execution_count": 164,
   "id": "28370195",
   "metadata": {},
   "outputs": [
    {
     "name": "stdout",
     "output_type": "stream",
     "text": [
      "G matrix:\n",
      "\n",
      " [[1 0 0 0 0 0 0 0 0 0 0 1 0 1 0]\n",
      " [0 1 0 0 0 0 0 0 0 0 0 0 1 0 1]\n",
      " [0 0 1 0 0 0 0 0 0 0 0 1 1 1 0]\n",
      " [0 0 0 1 0 0 0 0 0 0 0 0 1 1 1]\n",
      " [0 0 0 0 1 0 0 0 0 0 0 1 1 1 1]\n",
      " [0 0 0 0 0 1 0 0 0 0 0 1 0 1 1]\n",
      " [0 0 0 0 0 0 1 0 0 0 0 1 0 0 1]\n",
      " [0 0 0 0 0 0 0 1 0 0 0 1 0 0 0]\n",
      " [0 0 0 0 0 0 0 0 1 0 0 0 1 0 0]\n",
      " [0 0 0 0 0 0 0 0 0 1 0 0 0 1 0]\n",
      " [0 0 0 0 0 0 0 0 0 0 1 0 0 0 1]]\n"
     ]
    }
   ],
   "source": [
    "G = build_generator_matrix(test_gen_poly)\n",
    "print(\"G matrix:\\n\\n\", G)"
   ]
  },
  {
   "cell_type": "markdown",
   "id": "d3228a07",
   "metadata": {},
   "source": [
    "---"
   ]
  },
  {
   "cell_type": "markdown",
   "id": "c5c9ef65",
   "metadata": {},
   "source": [
    "Now that we have a generator matrix, we can create a function to build the parity check matrix"
   ]
  },
  {
   "cell_type": "code",
   "execution_count": 165,
   "id": "98fd4250",
   "metadata": {},
   "outputs": [
    {
     "name": "stdout",
     "output_type": "stream",
     "text": [
      "Parity Check Matrix Function Defined...\n"
     ]
    }
   ],
   "source": [
    "def build_parity_check_matrix(G):\n",
    "\tr = n - k\n",
    "\tP = G[:, k:]\n",
    "\n",
    "\t# H = [P^T | I_r]\n",
    "\tH = np.hstack((\n",
    "\t\t\tP.T,  # Transpose of parity portion of G\n",
    "\t\t\tnp.eye(r, dtype=int)  # The 4x4 identity matrix\n",
    "\t\t))\n",
    "\n",
    "\treturn H\n",
    "\n",
    "print(\"Parity Check Matrix Function Defined...\")"
   ]
  },
  {
   "cell_type": "markdown",
   "id": "0480f0a6",
   "metadata": {},
   "source": [
    "<i> NOTE: Using hstack from numpy to build the parity check matrix is used to horizontally stack the two matrices. </i>"
   ]
  },
  {
   "cell_type": "markdown",
   "id": "a59867cf",
   "metadata": {},
   "source": [
    "Try and see if building a parity check matrix works using the genorator matrix"
   ]
  },
  {
   "cell_type": "code",
   "execution_count": 166,
   "id": "2062e912",
   "metadata": {},
   "outputs": [
    {
     "name": "stdout",
     "output_type": "stream",
     "text": [
      "H matrix:\n",
      "\n",
      " [[1 0 1 0 1 1 1 1 0 0 0 1 0 0 0]\n",
      " [0 1 1 1 1 0 0 0 1 0 0 0 1 0 0]\n",
      " [1 0 1 1 1 1 0 0 0 1 0 0 0 1 0]\n",
      " [0 1 0 1 1 1 1 0 0 0 1 0 0 0 1]]\n"
     ]
    }
   ],
   "source": [
    "H = build_parity_check_matrix(G)\n",
    "print(\"H matrix:\\n\\n\", H)"
   ]
  },
  {
   "cell_type": "markdown",
   "id": "4216fd45",
   "metadata": {},
   "source": [
    "---"
   ]
  },
  {
   "cell_type": "markdown",
   "id": "408e2ee9",
   "metadata": {},
   "source": [
    "Now that we have a parity check matrix, we can build a syndrome table out of the parity check matrix using the equation s = H * e^T"
   ]
  },
  {
   "cell_type": "code",
   "execution_count": 167,
   "id": "6d4a6f14",
   "metadata": {},
   "outputs": [
    {
     "name": "stdout",
     "output_type": "stream",
     "text": [
      "Build Syndrome Table Function Defined...\n"
     ]
    }
   ],
   "source": [
    "# Build the syndrome table\n",
    "def build_syndrome_table(H):\n",
    "\tn = H.shape[1]\n",
    "\tsyndrome_table = {}\n",
    "\n",
    "\t# Check 1-bit errors\n",
    "\tfor i in range(n):\n",
    "\t\terror = np.zeros(n, dtype=int)\n",
    "\t\terror[i] = 1\n",
    "\t\tsyndrome = (H @ error.T) % 2  # Compute syndrome using matrix multiplication\n",
    "\t\tsyndrome_str = ''.join(map(str, syndrome))\n",
    "\n",
    "\t\t# Store if not already seen\n",
    "\t\tif syndrome_str not in syndrome_table:\n",
    "\t\t\tsyndrome_table[syndrome_str] = error\n",
    "\n",
    "\t# Check 2-bit errors\n",
    "\tfor i in range(n):\n",
    "\t\tfor j in range(i+1, n):\n",
    "\t\t\terror = np.zeros(n, dtype=int)\n",
    "\t\t\terror[i] = 1\n",
    "\t\t\terror[j] = 1\n",
    "\t\t\tsyndrome = (H @ error.T) % 2\n",
    "\t\t\tsyndrome_str = ''.join(map(str, syndrome))\n",
    "\n",
    "\t\t\tif syndrome_str not in syndrome_table:\n",
    "\t\t\t\tsyndrome_table[syndrome_str] = error\n",
    "\n",
    "\treturn syndrome_table\n",
    "\n",
    "print(\"Build Syndrome Table Function Defined...\")"
   ]
  },
  {
   "cell_type": "code",
   "execution_count": 168,
   "id": "2681b19c",
   "metadata": {},
   "outputs": [],
   "source": [
    "# Helper function to print the syndrome table in a readable format\n",
    "def print_syndrome_table(syndrome_table):\n",
    "\tprint(\"Syndrome Table (Syndrome -> Error Vector):\\n\")\n",
    "\tsorted_syn_table = sorted(syndrome_table.items())\n",
    "\n",
    "\t# Print each syndrome and its corresponding error vector\n",
    "\tfor syndrome, error in sorted(sorted_syn_table):\n",
    "\t\terror_str = ' '.join(map(str, error))\n",
    "\t\tprint(f\"Syndrome: {syndrome} -> Error Vector: [{error_str}]\")"
   ]
  },
  {
   "cell_type": "markdown",
   "id": "7c6840cd",
   "metadata": {},
   "source": [
    "Now build a syndrome table using the parity check matrix"
   ]
  },
  {
   "cell_type": "code",
   "execution_count": 169,
   "id": "cefe8e3a",
   "metadata": {},
   "outputs": [
    {
     "name": "stdout",
     "output_type": "stream",
     "text": [
      "Syndrome Table (Syndrome -> Error Vector):\n",
      "\n",
      "Syndrome: 0000 -> Error Vector: [0 0 0 0 0 0 0 1 0 0 0 1 0 0 0]\n",
      "Syndrome: 0001 -> Error Vector: [0 0 0 0 0 0 0 0 0 0 1 0 0 0 0]\n",
      "Syndrome: 0010 -> Error Vector: [0 0 0 0 0 0 0 0 0 1 0 0 0 0 0]\n",
      "Syndrome: 0011 -> Error Vector: [1 0 0 0 0 0 1 0 0 0 0 0 0 0 0]\n",
      "Syndrome: 0100 -> Error Vector: [0 0 0 0 0 0 0 0 1 0 0 0 0 0 0]\n",
      "Syndrome: 0101 -> Error Vector: [0 1 0 0 0 0 0 0 0 0 0 0 0 0 0]\n",
      "Syndrome: 0110 -> Error Vector: [0 0 1 0 0 0 0 1 0 0 0 0 0 0 0]\n",
      "Syndrome: 0111 -> Error Vector: [0 0 0 1 0 0 0 0 0 0 0 0 0 0 0]\n",
      "Syndrome: 1000 -> Error Vector: [0 0 0 0 0 0 0 1 0 0 0 0 0 0 0]\n",
      "Syndrome: 1001 -> Error Vector: [0 0 0 0 0 0 1 0 0 0 0 0 0 0 0]\n",
      "Syndrome: 1010 -> Error Vector: [1 0 0 0 0 0 0 0 0 0 0 0 0 0 0]\n",
      "Syndrome: 1011 -> Error Vector: [0 0 0 0 0 1 0 0 0 0 0 0 0 0 0]\n",
      "Syndrome: 1100 -> Error Vector: [0 1 0 0 0 0 1 0 0 0 0 0 0 0 0]\n",
      "Syndrome: 1101 -> Error Vector: [1 0 0 1 0 0 0 0 0 0 0 0 0 0 0]\n",
      "Syndrome: 1110 -> Error Vector: [0 0 1 0 0 0 0 0 0 0 0 0 0 0 0]\n",
      "Syndrome: 1111 -> Error Vector: [0 0 0 0 1 0 0 0 0 0 0 0 0 0 0]\n"
     ]
    }
   ],
   "source": [
    "s = build_syndrome_table(H)\n",
    "print_syndrome_table(s)"
   ]
  },
  {
   "cell_type": "markdown",
   "id": "1a0f01d9",
   "metadata": {},
   "source": [
    "As we can see here, since our hamming code is (15, 11) our r is 4. This means that the syndrome vector has 4 bits because the parity-check matrix H is size 4 x 15.\n",
    "\n",
    "- In other examples like in the lecture notes, the commonly used Hamming Code would look something like (7, 4) which means that the syndrome vector has 3 bits. Since this is a bigger code, the syndrome vector is bigger."
   ]
  },
  {
   "cell_type": "markdown",
   "id": "5f233da5",
   "metadata": {},
   "source": [
    "---"
   ]
  },
  {
   "cell_type": "markdown",
   "id": "d4b25af4",
   "metadata": {},
   "source": [
    "I wanted to make a class to hold all of our functionality for encoding and decoding. This would be beneficial and lead to ease of use for when we want to enter data ourselves.\n",
    "\n",
    "The class is as follows:\n",
    " - Initialize the class with the generator polynomial\n",
    " - Define the encode and decode functions\n",
    " - Return all of the function built for encoding and decoding"
   ]
  },
  {
   "cell_type": "code",
   "execution_count": 170,
   "id": "2518291d",
   "metadata": {},
   "outputs": [],
   "source": [
    "class LinearCode:\n",
    "\t\"\"\"\n",
    "\tA class to represent a linear code for encoding and decoding messages.\n",
    "\tAttributes:\n",
    "\t\tgen_poly: The generator polynomial used to create the code.\n",
    "\t\tG: The generator matrix.\n",
    "\t\tH: The parity check matrix.\n",
    "\t\tk: The number of message bits.\n",
    "\t\tn: The total number of bits.\n",
    "\t\tsyndrome_table: A dictionary mapping syndromes to error vectors.\n",
    "\t\"\"\"\n",
    "\n",
    "\t# Initialize the class\n",
    "\tdef __init__(self, gen_poly, n, k):\n",
    "\t\tself.gen_poly = gen_poly\n",
    "\t\tself.n = n\n",
    "\t\tself.k = k\n",
    "\t\tself.G = build_generator_matrix(gen_poly)\n",
    "\t\tself.H = build_parity_check_matrix(self.G)\n",
    "\t\tself.k, self.n = self.G.shape\n",
    "\t\tself.syndrome_table = build_syndrome_table(self.H)\n",
    "\n",
    "\t# Call for printing matrices\n",
    "\tdef print_info(self):\n",
    "\t\tprint(\"For Hamming Code with n =\", self.n, \"and k =\", self.k, \"and generator polynomial g(x) =\", self.gen_poly, \":\\n\")\n",
    "\n",
    "\t\tprint(\"\\n=== Generator Matrix (G) ===\")\n",
    "\t\tprint(self.G)\n",
    "\n",
    "\t\tprint(\"\\n=== Parity Check Matrix (H) ===\")\n",
    "\t\tprint(self.H)\n",
    "\t\tprint(\"\\n\")\n",
    "\n",
    "\t\tprint(\"\\n=== Syndrome Table ===\")\n",
    "\t\tprint_syndrome_table(self.syndrome_table)  # special function to format the syndrome table\n",
    "\t\tprint(\"\\n\")\n",
    "\n",
    "\t\treturn\n",
    "\n",
    "\t# Helper function to compute the syndrome\n",
    "\tdef compute_syndrome(self, received_vector):\n",
    "\t\treceived_vector = np.array(received_vector, dtype=int)\n",
    "\t\treturn (self.H @ received_vector.T) % 2\n",
    "\n",
    "\t# Encode a message\n",
    "\tdef encode(self, message):\n",
    "\t\tmessage = np.array(message, dtype=int)\n",
    "\t\tif len(message) != self.k:\n",
    "\t\t\traise ValueError(f\"Message must be of length {self.k}, returned {len(message)}\")\n",
    "\t\treturn (message @ self.G) % 2\n",
    "\n",
    "\t# Decode a message\n",
    "\tdef decode(self, message):\n",
    "\t\tmessage = np.array(message, dtype=int)\n",
    "\t\tsyndrome = self.compute_syndrome(message)\n",
    "\t\tsyndrome_str = ''.join(map(str, syndrome))\n",
    "\n",
    "\t\tif syndrome_str == '0000':\n",
    "\t\t\t# For when there is no error detected\n",
    "\t\t\treturn message[:self.k], message, syndrome_str, None\n",
    "\n",
    "\t\tif syndrome_str in self.syndrome_table:\n",
    "\t\t\t# Correctable error found\n",
    "\t\t\terror_vector = self.syndrome_table[syndrome_str]\n",
    "\t\t\tcorrected = (message + error_vector) % 2\n",
    "\t\t\treturn corrected[:self.k], corrected, syndrome_str, error_vector\n",
    "\n",
    "\t\t# Uncorrectable error\n",
    "\t\treturn None, message, syndrome_str, None\n"
   ]
  },
  {
   "cell_type": "markdown",
   "id": "cf8fdf41",
   "metadata": {},
   "source": [
    "Now that we have everything set up, we can start encoding and decoding! I wanted to make a class system for encoding and decoding and then transfering all of these functions into it! So here it is."
   ]
  },
  {
   "cell_type": "code",
   "execution_count": 171,
   "id": "183efe2f",
   "metadata": {},
   "outputs": [],
   "source": [
    "def encode_message(code, messages):\n",
    "\t# Ensure input is a list of messages\n",
    "\tif isinstance(messages, np.ndarray):\n",
    "\t\tmessages = [messages]\n",
    "\n",
    "\tlen_messages = len(messages)\n",
    "\n",
    "\tprint(\"Encoding \", len_messages, \" Messages... \\n\")\n",
    "\n",
    "\tfor i, m in enumerate(messages, 1):\n",
    "\t\tV = code.encode(m)\n",
    "\t\tprint(f\"U{i}: {m}\")\n",
    "\t\tprint(f\"V{i} (Encoded): {V}\\n\")"
   ]
  },
  {
   "cell_type": "code",
   "execution_count": null,
   "id": "d05a7be4",
   "metadata": {},
   "outputs": [],
   "source": [
    "def decode_message(code, messages):\n",
    "\t# Ensure input is a list of messages\n",
    "\tif isinstance(messages, np.ndarray):\n",
    "\t\tmessages = [messages]\n",
    "\n",
    "\tlen_messages = len(messages)\n",
    "\n",
    "\t# Debug statement\n",
    "\tprint(\"Decoding \", len_messages, \" Messages... \\n\")\n",
    "\n",
    "\tfor i, r in enumerate(messages, 1):\n",
    "\t\tmessage, syndrome, error = code.decode(r)\n",
    "\t\tprint(f\"R{i}: {r}\")\n",
    "\t\tprint(f\"Syndrome for R{i}: {syndrome}\")\n",
    "\n",
    "\t\t# Print the decoded message or error information\n",
    "\t\tif syndrome == '0000':\n",
    "\t\t\tprint(f\"V{i} (Decoded): {message}\\n\")\n",
    "\t\telif error is not None:\n",
    "\t\t\tprint(f\"V{i} (Decoded with correction): {message}\\n(Corrected from {r} with error {error})\\n\")\n",
    "\t\telse:\n",
    "\t\t\tprint(f\"V{i} (Uncorrectable error): {r} (Syndrome: {syndrome})\\n\")"
   ]
  },
  {
   "cell_type": "markdown",
   "id": "ea892538",
   "metadata": {},
   "source": [
    "---"
   ]
  },
  {
   "cell_type": "markdown",
   "id": "e3d5b907",
   "metadata": {},
   "source": [
    "Now we can encode and decode with our values given in the problem statement! This will be where we get our answers!"
   ]
  },
  {
   "cell_type": "code",
   "execution_count": 177,
   "id": "0d200e6b",
   "metadata": {},
   "outputs": [
    {
     "name": "stdout",
     "output_type": "stream",
     "text": [
      "Hamming Code Simulation Project Initialized\n",
      "\n",
      "For Hamming Code with n = 15 and k = 11 and generator polynomial g(x) = [1, 1, 0, 0, 1] :\n",
      "\n",
      "\n",
      "=== Generator Matrix (G) ===\n",
      "[[1 0 0 0 0 0 0 0 0 0 0 1 0 1 0]\n",
      " [0 1 0 0 0 0 0 0 0 0 0 0 1 0 1]\n",
      " [0 0 1 0 0 0 0 0 0 0 0 1 1 1 0]\n",
      " [0 0 0 1 0 0 0 0 0 0 0 0 1 1 1]\n",
      " [0 0 0 0 1 0 0 0 0 0 0 1 1 1 1]\n",
      " [0 0 0 0 0 1 0 0 0 0 0 1 0 1 1]\n",
      " [0 0 0 0 0 0 1 0 0 0 0 1 0 0 1]\n",
      " [0 0 0 0 0 0 0 1 0 0 0 1 0 0 0]\n",
      " [0 0 0 0 0 0 0 0 1 0 0 0 1 0 0]\n",
      " [0 0 0 0 0 0 0 0 0 1 0 0 0 1 0]\n",
      " [0 0 0 0 0 0 0 0 0 0 1 0 0 0 1]]\n",
      "\n",
      "=== Parity Check Matrix (H) ===\n",
      "[[1 0 1 0 1 1 1 1 0 0 0 1 0 0 0]\n",
      " [0 1 1 1 1 0 0 0 1 0 0 0 1 0 0]\n",
      " [1 0 1 1 1 1 0 0 0 1 0 0 0 1 0]\n",
      " [0 1 0 1 1 1 1 0 0 0 1 0 0 0 1]]\n",
      "\n",
      "\n",
      "\n",
      "=== Syndrome Table ===\n",
      "Syndrome Table (Syndrome -> Error Vector):\n",
      "\n",
      "Syndrome: 0000 -> Error Vector: [0 0 0 0 0 0 0 1 0 0 0 1 0 0 0]\n",
      "Syndrome: 0001 -> Error Vector: [0 0 0 0 0 0 0 0 0 0 1 0 0 0 0]\n",
      "Syndrome: 0010 -> Error Vector: [0 0 0 0 0 0 0 0 0 1 0 0 0 0 0]\n",
      "Syndrome: 0011 -> Error Vector: [1 0 0 0 0 0 1 0 0 0 0 0 0 0 0]\n",
      "Syndrome: 0100 -> Error Vector: [0 0 0 0 0 0 0 0 1 0 0 0 0 0 0]\n",
      "Syndrome: 0101 -> Error Vector: [0 1 0 0 0 0 0 0 0 0 0 0 0 0 0]\n",
      "Syndrome: 0110 -> Error Vector: [0 0 1 0 0 0 0 1 0 0 0 0 0 0 0]\n",
      "Syndrome: 0111 -> Error Vector: [0 0 0 1 0 0 0 0 0 0 0 0 0 0 0]\n",
      "Syndrome: 1000 -> Error Vector: [0 0 0 0 0 0 0 1 0 0 0 0 0 0 0]\n",
      "Syndrome: 1001 -> Error Vector: [0 0 0 0 0 0 1 0 0 0 0 0 0 0 0]\n",
      "Syndrome: 1010 -> Error Vector: [1 0 0 0 0 0 0 0 0 0 0 0 0 0 0]\n",
      "Syndrome: 1011 -> Error Vector: [0 0 0 0 0 1 0 0 0 0 0 0 0 0 0]\n",
      "Syndrome: 1100 -> Error Vector: [0 1 0 0 0 0 1 0 0 0 0 0 0 0 0]\n",
      "Syndrome: 1101 -> Error Vector: [1 0 0 1 0 0 0 0 0 0 0 0 0 0 0]\n",
      "Syndrome: 1110 -> Error Vector: [0 0 1 0 0 0 0 0 0 0 0 0 0 0 0]\n",
      "Syndrome: 1111 -> Error Vector: [0 0 0 0 1 0 0 0 0 0 0 0 0 0 0]\n",
      "\n",
      "\n",
      "Encoding  5  Messages... \n",
      "\n",
      "U1: [1 1 1 1 0 0 0 0 0 1 1]\n",
      "V1 (Encoded): [1 1 1 1 0 0 0 0 0 1 1 0 1 0 1]\n",
      "\n",
      "U2: [0 1 0 0 1 0 1 0 1 0 0]\n",
      "V2 (Encoded): [0 1 0 0 1 0 1 0 1 0 0 0 1 1 1]\n",
      "\n",
      "U3: [1 1 0 1 1 0 0 0 1 1 0]\n",
      "V3 (Encoded): [1 1 0 1 1 0 0 0 1 1 0 0 0 0 1]\n",
      "\n",
      "U4: [1 1 1 1 1 0 0 1 1 1 0]\n",
      "V4 (Encoded): [1 1 1 1 1 0 0 1 1 1 0 0 1 1 1]\n",
      "\n",
      "U5: [1 0 1 0 1 0 1 0 1 1 1]\n",
      "V5 (Encoded): [1 0 1 0 1 0 1 0 1 1 1 0 1 0 1]\n",
      "\n",
      "Decoding  5  Messages... \n",
      "\n",
      "R1: [1 1 1 1 0 0 0 1 0 1 0 1 1 0 1]\n",
      "Syndrome for R1: 0001\n",
      "V1 (Decoded with correction): [1 1 1 1 0 0 0 1 0 1 1]\n",
      "(Corrected from [1 1 1 1 0 0 0 1 0 1 0 1 1 0 1] with error [0 0 0 0 0 0 0 0 0 0 1 0 0 0 0])\n",
      "\n",
      "R2: [1 0 1 0 1 0 0 1 0 1 0 0 1 1 0]\n",
      "Syndrome for R2: 0111\n",
      "V2 (Decoded with correction): [1 0 1 1 1 0 0 1 0 1 0]\n",
      "(Corrected from [1 0 1 0 1 0 0 1 0 1 0 0 1 1 0] with error [0 0 0 1 0 0 0 0 0 0 0 0 0 0 0])\n",
      "\n",
      "R3: [0 0 0 1 1 0 1 0 0 1 1 1 0 1 1]\n",
      "Syndrome for R3: 1001\n",
      "V3 (Decoded with correction): [0 0 0 1 1 0 0 0 0 1 1]\n",
      "(Corrected from [0 0 0 1 1 0 1 0 0 1 1 1 0 1 1] with error [0 0 0 0 0 0 1 0 0 0 0 0 0 0 0])\n",
      "\n",
      "R4: [1 0 1 0 1 0 1 1 0 1 0 1 0 1 1]\n",
      "Syndrome for R4: 0011\n",
      "V4 (Decoded with correction): [0 0 1 0 1 0 0 1 0 1 0]\n",
      "(Corrected from [1 0 1 0 1 0 1 1 0 1 0 1 0 1 1] with error [1 0 0 0 0 0 1 0 0 0 0 0 0 0 0])\n",
      "\n",
      "R5: [1 1 1 1 0 0 0 0 0 0 1 1 0 1 0]\n",
      "Syndrome for R5: 1101\n",
      "V5 (Decoded with correction): [0 1 1 0 0 0 0 0 0 0 1]\n",
      "(Corrected from [1 1 1 1 0 0 0 0 0 0 1 1 0 1 0] with error [1 0 0 1 0 0 0 0 0 0 0 0 0 0 0])\n",
      "\n",
      "\n",
      "Simulation Project Complete!\n"
     ]
    }
   ],
   "source": [
    "gen_poly = [1, 1, 0, 0, 1]  # Our generator polynomial\n",
    "n, k = 15, 11  # Codeword length and message length\n",
    "hamming_code = LinearCode(gen_poly, n, k)  # Create an instance of LinearCode\n",
    "\n",
    "print(\"Hamming Code Simulation Project Initialized\\n\")\n",
    "\n",
    "hamming_code.print_info()  # Print the matrices\n",
    "\n",
    "encode_messages = [\n",
    "\tnp.array([1,1,1,1,0,0,0,0,0,1,1]),  # U1\n",
    "\tnp.array([0,1,0,0,1,0,1,0,1,0,0]),  # U2\n",
    "\tnp.array([1,1,0,1,1,0,0,0,1,1,0]),  # U3\n",
    "\tnp.array([1,1,1,1,1,0,0,1,1,1,0]),  # U4\n",
    "\tnp.array([1,0,1,0,1,0,1,0,1,1,1])   # U5\n",
    "]\n",
    "\n",
    "decode_messages = [\n",
    "\tnp.array([1,1,1,1,0,0,0,1,0,1,0,1,1,0,1]),  # R1\n",
    "\tnp.array([1,0,1,0,1,0,0,1,0,1,0,0,1,1,0]),  # R2\n",
    "\tnp.array([0,0,0,1,1,0,1,0,0,1,1,1,0,1,1]),  # R3\n",
    "\tnp.array([1,0,1,0,1,0,1,1,0,1,0,1,0,1,1]),  # R4\n",
    "\tnp.array([1,1,1,1,0,0,0,0,0,0,1,1,0,1,0])   # R5\n",
    "]\n",
    "\n",
    "encode_message(hamming_code, encode_messages)\n",
    "decode_message(hamming_code, decode_messages)\n",
    "\n",
    "print(\"\\nSimulation Project Complete!\")\n"
   ]
  }
 ],
 "metadata": {
  "kernelspec": {
   "display_name": "Python 3",
   "language": "python",
   "name": "python3"
  },
  "language_info": {
   "codemirror_mode": {
    "name": "ipython",
    "version": 3
   },
   "file_extension": ".py",
   "mimetype": "text/x-python",
   "name": "python",
   "nbconvert_exporter": "python",
   "pygments_lexer": "ipython3",
   "version": "3.13.5"
  }
 },
 "nbformat": 4,
 "nbformat_minor": 5
}
